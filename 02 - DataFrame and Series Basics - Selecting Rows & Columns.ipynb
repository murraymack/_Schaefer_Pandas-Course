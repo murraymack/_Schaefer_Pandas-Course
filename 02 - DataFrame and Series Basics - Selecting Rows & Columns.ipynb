{
 "cells": [
  {
   "cell_type": "code",
   "execution_count": 3,
   "metadata": {},
   "outputs": [],
   "source": [
    "# https://www.youtube.com/watch?v=zmdjNSmRXF4&list=PL-osiE80TeTsWmV9i9c58mdDCSskIFdDS&index=2\n",
    "import pandas as pd\n",
    "import os\n",
    "\n",
    "data_path = 'data/news.csv'\n",
    "schema_path = 'data/news_schema.csv'\n",
    "df = pd.read_csv(data_path)\n",
    "schema_df = pd.read_csv(schema_path)"
   ]
  },
  {
   "cell_type": "code",
   "execution_count": 4,
   "metadata": {},
   "outputs": [
    {
     "data": {
      "text/html": [
       "<div>\n",
       "<style scoped>\n",
       "    .dataframe tbody tr th:only-of-type {\n",
       "        vertical-align: middle;\n",
       "    }\n",
       "\n",
       "    .dataframe tbody tr th {\n",
       "        vertical-align: top;\n",
       "    }\n",
       "\n",
       "    .dataframe thead th {\n",
       "        text-align: right;\n",
       "    }\n",
       "</style>\n",
       "<table border=\"1\" class=\"dataframe\">\n",
       "  <thead>\n",
       "    <tr style=\"text-align: right;\">\n",
       "      <th></th>\n",
       "      <th>Unnamed: 0</th>\n",
       "      <th>authors</th>\n",
       "      <th>title</th>\n",
       "      <th>publish_date</th>\n",
       "      <th>description</th>\n",
       "      <th>text</th>\n",
       "      <th>url</th>\n",
       "    </tr>\n",
       "  </thead>\n",
       "  <tbody>\n",
       "    <tr>\n",
       "      <th>0</th>\n",
       "      <td>0</td>\n",
       "      <td>['Cbc News']</td>\n",
       "      <td>Coronavirus a 'wake-up call' for Canada's pres...</td>\n",
       "      <td>2020-03-27 08:00:00</td>\n",
       "      <td>Canadian pharmacies are limiting how much medi...</td>\n",
       "      <td>Canadian pharmacies are limiting how much medi...</td>\n",
       "      <td>https://www.cbc.ca/news/health/covid-19-drug-s...</td>\n",
       "    </tr>\n",
       "    <tr>\n",
       "      <th>1</th>\n",
       "      <td>1</td>\n",
       "      <td>['Cbc News']</td>\n",
       "      <td>Yukon gov't names 2 possible sources of corona...</td>\n",
       "      <td>2020-03-27 01:45:00</td>\n",
       "      <td>The Yukon government has identified two places...</td>\n",
       "      <td>The Yukon government has identified two places...</td>\n",
       "      <td>https://www.cbc.ca/news/canada/north/yukon-cor...</td>\n",
       "    </tr>\n",
       "    <tr>\n",
       "      <th>2</th>\n",
       "      <td>2</td>\n",
       "      <td>['The Associated Press']</td>\n",
       "      <td>U.S. Senate passes $2T coronavirus relief package</td>\n",
       "      <td>2020-03-26 05:13:00</td>\n",
       "      <td>The Senate has passed an unparalleled $2.2 tri...</td>\n",
       "      <td>The Senate late Wednesday passed an unparallel...</td>\n",
       "      <td>https://www.cbc.ca/news/world/senate-coronavir...</td>\n",
       "    </tr>\n",
       "    <tr>\n",
       "      <th>3</th>\n",
       "      <td>3</td>\n",
       "      <td>['Cbc News']</td>\n",
       "      <td>Coronavirus: The latest in drug treatment and ...</td>\n",
       "      <td>2020-03-27 00:36:00</td>\n",
       "      <td>Scientists around the world are racing to find...</td>\n",
       "      <td>Scientists around the world are racing to find...</td>\n",
       "      <td>https://www.cbc.ca/news/health/coronavirus-tre...</td>\n",
       "    </tr>\n",
       "    <tr>\n",
       "      <th>4</th>\n",
       "      <td>4</td>\n",
       "      <td>['Cbc News']</td>\n",
       "      <td>The latest on the coronavirus outbreak for Mar...</td>\n",
       "      <td>2020-03-26 20:57:00</td>\n",
       "      <td>The latest on the coronavirus outbreak from CB...</td>\n",
       "      <td>Trudeau says rules of Quarantine Act will ...</td>\n",
       "      <td>https://www.cbc.ca/news/the-latest-on-the-coro...</td>\n",
       "    </tr>\n",
       "  </tbody>\n",
       "</table>\n",
       "</div>"
      ],
      "text/plain": [
       "   Unnamed: 0                   authors  \\\n",
       "0           0              ['Cbc News']   \n",
       "1           1              ['Cbc News']   \n",
       "2           2  ['The Associated Press']   \n",
       "3           3              ['Cbc News']   \n",
       "4           4              ['Cbc News']   \n",
       "\n",
       "                                               title         publish_date  \\\n",
       "0  Coronavirus a 'wake-up call' for Canada's pres...  2020-03-27 08:00:00   \n",
       "1  Yukon gov't names 2 possible sources of corona...  2020-03-27 01:45:00   \n",
       "2  U.S. Senate passes $2T coronavirus relief package  2020-03-26 05:13:00   \n",
       "3  Coronavirus: The latest in drug treatment and ...  2020-03-27 00:36:00   \n",
       "4  The latest on the coronavirus outbreak for Mar...  2020-03-26 20:57:00   \n",
       "\n",
       "                                         description  \\\n",
       "0  Canadian pharmacies are limiting how much medi...   \n",
       "1  The Yukon government has identified two places...   \n",
       "2  The Senate has passed an unparalleled $2.2 tri...   \n",
       "3  Scientists around the world are racing to find...   \n",
       "4  The latest on the coronavirus outbreak from CB...   \n",
       "\n",
       "                                                text  \\\n",
       "0  Canadian pharmacies are limiting how much medi...   \n",
       "1  The Yukon government has identified two places...   \n",
       "2  The Senate late Wednesday passed an unparallel...   \n",
       "3  Scientists around the world are racing to find...   \n",
       "4      Trudeau says rules of Quarantine Act will ...   \n",
       "\n",
       "                                                 url  \n",
       "0  https://www.cbc.ca/news/health/covid-19-drug-s...  \n",
       "1  https://www.cbc.ca/news/canada/north/yukon-cor...  \n",
       "2  https://www.cbc.ca/news/world/senate-coronavir...  \n",
       "3  https://www.cbc.ca/news/health/coronavirus-tre...  \n",
       "4  https://www.cbc.ca/news/the-latest-on-the-coro...  "
      ]
     },
     "execution_count": 4,
     "metadata": {},
     "output_type": "execute_result"
    }
   ],
   "source": [
    "df.head()"
   ]
  },
  {
   "cell_type": "code",
   "execution_count": 5,
   "metadata": {},
   "outputs": [
    {
     "data": {
      "text/html": [
       "<div>\n",
       "<style scoped>\n",
       "    .dataframe tbody tr th:only-of-type {\n",
       "        vertical-align: middle;\n",
       "    }\n",
       "\n",
       "    .dataframe tbody tr th {\n",
       "        vertical-align: top;\n",
       "    }\n",
       "\n",
       "    .dataframe thead th {\n",
       "        text-align: right;\n",
       "    }\n",
       "</style>\n",
       "<table border=\"1\" class=\"dataframe\">\n",
       "  <thead>\n",
       "    <tr style=\"text-align: right;\">\n",
       "      <th></th>\n",
       "      <th>Unnamed: 0</th>\n",
       "      <th>Column</th>\n",
       "      <th>DescriptionText</th>\n",
       "    </tr>\n",
       "  </thead>\n",
       "  <tbody>\n",
       "    <tr>\n",
       "      <th>0</th>\n",
       "      <td>0</td>\n",
       "      <td>authors</td>\n",
       "      <td>The author of online article.</td>\n",
       "    </tr>\n",
       "    <tr>\n",
       "      <th>1</th>\n",
       "      <td>1</td>\n",
       "      <td>title</td>\n",
       "      <td>The title of online article.</td>\n",
       "    </tr>\n",
       "    <tr>\n",
       "      <th>2</th>\n",
       "      <td>2</td>\n",
       "      <td>publish_date</td>\n",
       "      <td>The date the article was published.</td>\n",
       "    </tr>\n",
       "    <tr>\n",
       "      <th>3</th>\n",
       "      <td>3</td>\n",
       "      <td>description</td>\n",
       "      <td>Brief description of article.</td>\n",
       "    </tr>\n",
       "    <tr>\n",
       "      <th>4</th>\n",
       "      <td>4</td>\n",
       "      <td>text</td>\n",
       "      <td>The text of the article.</td>\n",
       "    </tr>\n",
       "  </tbody>\n",
       "</table>\n",
       "</div>"
      ],
      "text/plain": [
       "   Unnamed: 0        Column                      DescriptionText\n",
       "0           0       authors        The author of online article.\n",
       "1           1         title         The title of online article.\n",
       "2           2  publish_date  The date the article was published.\n",
       "3           3   description        Brief description of article.\n",
       "4           4          text             The text of the article."
      ]
     },
     "execution_count": 5,
     "metadata": {},
     "output_type": "execute_result"
    }
   ],
   "source": [
    "schema_df.head()"
   ]
  },
  {
   "cell_type": "code",
   "execution_count": 9,
   "metadata": {},
   "outputs": [
    {
     "data": {
      "text/html": [
       "<div>\n",
       "<style scoped>\n",
       "    .dataframe tbody tr th:only-of-type {\n",
       "        vertical-align: middle;\n",
       "    }\n",
       "\n",
       "    .dataframe tbody tr th {\n",
       "        vertical-align: top;\n",
       "    }\n",
       "\n",
       "    .dataframe thead th {\n",
       "        text-align: right;\n",
       "    }\n",
       "</style>\n",
       "<table border=\"1\" class=\"dataframe\">\n",
       "  <thead>\n",
       "    <tr style=\"text-align: right;\">\n",
       "      <th></th>\n",
       "      <th>Column</th>\n",
       "      <th>DescriptionText</th>\n",
       "    </tr>\n",
       "  </thead>\n",
       "  <tbody>\n",
       "    <tr>\n",
       "      <th>0</th>\n",
       "      <td>authors</td>\n",
       "      <td>The author of online article.</td>\n",
       "    </tr>\n",
       "    <tr>\n",
       "      <th>1</th>\n",
       "      <td>title</td>\n",
       "      <td>The title of online article.</td>\n",
       "    </tr>\n",
       "    <tr>\n",
       "      <th>2</th>\n",
       "      <td>publish_date</td>\n",
       "      <td>The date the article was published.</td>\n",
       "    </tr>\n",
       "    <tr>\n",
       "      <th>3</th>\n",
       "      <td>description</td>\n",
       "      <td>Brief description of article.</td>\n",
       "    </tr>\n",
       "    <tr>\n",
       "      <th>4</th>\n",
       "      <td>text</td>\n",
       "      <td>The text of the article.</td>\n",
       "    </tr>\n",
       "    <tr>\n",
       "      <th>5</th>\n",
       "      <td>url</td>\n",
       "      <td>URL to accesss article.</td>\n",
       "    </tr>\n",
       "  </tbody>\n",
       "</table>\n",
       "</div>"
      ],
      "text/plain": [
       "         Column                      DescriptionText\n",
       "0       authors        The author of online article.\n",
       "1         title         The title of online article.\n",
       "2  publish_date  The date the article was published.\n",
       "3   description        Brief description of article.\n",
       "4          text             The text of the article.\n",
       "5           url              URL to accesss article."
      ]
     },
     "execution_count": 9,
     "metadata": {},
     "output_type": "execute_result"
    }
   ],
   "source": [
    "schema_df.drop(columns=['Unnamed: 0'])"
   ]
  },
  {
   "cell_type": "code",
   "execution_count": 12,
   "metadata": {},
   "outputs": [],
   "source": [
    "test_dict = {\n",
    "    \"first\": [\"Dave\", \"Jane\", \"John\"],\n",
    "    \"last\": [\"Zimmer\", \"Fonda\", \"Smith\"],\n",
    "    \"email\": [\"DaveZimmer@mail.com\", \"JaneFonda@mail.com\", \"JohnSmith@mail.com\"]\n",
    "}"
   ]
  },
  {
   "cell_type": "code",
   "execution_count": 13,
   "metadata": {},
   "outputs": [
    {
     "data": {
      "text/html": [
       "<div>\n",
       "<style scoped>\n",
       "    .dataframe tbody tr th:only-of-type {\n",
       "        vertical-align: middle;\n",
       "    }\n",
       "\n",
       "    .dataframe tbody tr th {\n",
       "        vertical-align: top;\n",
       "    }\n",
       "\n",
       "    .dataframe thead th {\n",
       "        text-align: right;\n",
       "    }\n",
       "</style>\n",
       "<table border=\"1\" class=\"dataframe\">\n",
       "  <thead>\n",
       "    <tr style=\"text-align: right;\">\n",
       "      <th></th>\n",
       "      <th>email</th>\n",
       "      <th>first</th>\n",
       "      <th>last</th>\n",
       "    </tr>\n",
       "  </thead>\n",
       "  <tbody>\n",
       "    <tr>\n",
       "      <th>0</th>\n",
       "      <td>DaveZimmer@mail.com</td>\n",
       "      <td>Dave</td>\n",
       "      <td>Zimmer</td>\n",
       "    </tr>\n",
       "    <tr>\n",
       "      <th>1</th>\n",
       "      <td>JaneFonda@mail.com</td>\n",
       "      <td>Jane</td>\n",
       "      <td>Fonda</td>\n",
       "    </tr>\n",
       "    <tr>\n",
       "      <th>2</th>\n",
       "      <td>JohnSmith@mail.com</td>\n",
       "      <td>John</td>\n",
       "      <td>Smith</td>\n",
       "    </tr>\n",
       "  </tbody>\n",
       "</table>\n",
       "</div>"
      ],
      "text/plain": [
       "                 email first    last\n",
       "0  DaveZimmer@mail.com  Dave  Zimmer\n",
       "1   JaneFonda@mail.com  Jane   Fonda\n",
       "2   JohnSmith@mail.com  John   Smith"
      ]
     },
     "execution_count": 13,
     "metadata": {},
     "output_type": "execute_result"
    }
   ],
   "source": [
    "test_df = pd.DataFrame(test_dict)\n",
    "test_df"
   ]
  },
  {
   "cell_type": "code",
   "execution_count": 15,
   "metadata": {},
   "outputs": [
    {
     "data": {
      "text/plain": [
       "0    DaveZimmer@mail.com\n",
       "1     JaneFonda@mail.com\n",
       "2     JohnSmith@mail.com\n",
       "Name: email, dtype: object"
      ]
     },
     "execution_count": 15,
     "metadata": {},
     "output_type": "execute_result"
    }
   ],
   "source": [
    "test_df['email']"
   ]
  },
  {
   "cell_type": "code",
   "execution_count": 16,
   "metadata": {},
   "outputs": [
    {
     "data": {
      "text/plain": [
       "pandas.core.series.Series"
      ]
     },
     "execution_count": 16,
     "metadata": {},
     "output_type": "execute_result"
    }
   ],
   "source": [
    "type(test_df['email'])"
   ]
  },
  {
   "cell_type": "markdown",
   "metadata": {},
   "source": [
    "A Series is rows of a single column.\n",
    "A DataFrame is a container for multiple Series."
   ]
  },
  {
   "cell_type": "code",
   "execution_count": 20,
   "metadata": {},
   "outputs": [
    {
     "data": {
      "text/plain": [
       "0    DaveZimmer@mail.com\n",
       "1     JaneFonda@mail.com\n",
       "2     JohnSmith@mail.com\n",
       "Name: email, dtype: object"
      ]
     },
     "execution_count": 20,
     "metadata": {},
     "output_type": "execute_result"
    }
   ],
   "source": [
    "test_df.email\n",
    "# Try not to use this. A col name may be the same as a PD method."
   ]
  },
  {
   "cell_type": "code",
   "execution_count": 22,
   "metadata": {},
   "outputs": [
    {
     "data": {
      "text/html": [
       "<div>\n",
       "<style scoped>\n",
       "    .dataframe tbody tr th:only-of-type {\n",
       "        vertical-align: middle;\n",
       "    }\n",
       "\n",
       "    .dataframe tbody tr th {\n",
       "        vertical-align: top;\n",
       "    }\n",
       "\n",
       "    .dataframe thead th {\n",
       "        text-align: right;\n",
       "    }\n",
       "</style>\n",
       "<table border=\"1\" class=\"dataframe\">\n",
       "  <thead>\n",
       "    <tr style=\"text-align: right;\">\n",
       "      <th></th>\n",
       "      <th>last</th>\n",
       "      <th>email</th>\n",
       "    </tr>\n",
       "  </thead>\n",
       "  <tbody>\n",
       "    <tr>\n",
       "      <th>0</th>\n",
       "      <td>Zimmer</td>\n",
       "      <td>DaveZimmer@mail.com</td>\n",
       "    </tr>\n",
       "    <tr>\n",
       "      <th>1</th>\n",
       "      <td>Fonda</td>\n",
       "      <td>JaneFonda@mail.com</td>\n",
       "    </tr>\n",
       "    <tr>\n",
       "      <th>2</th>\n",
       "      <td>Smith</td>\n",
       "      <td>JohnSmith@mail.com</td>\n",
       "    </tr>\n",
       "  </tbody>\n",
       "</table>\n",
       "</div>"
      ],
      "text/plain": [
       "     last                email\n",
       "0  Zimmer  DaveZimmer@mail.com\n",
       "1   Fonda   JaneFonda@mail.com\n",
       "2   Smith   JohnSmith@mail.com"
      ]
     },
     "execution_count": 22,
     "metadata": {},
     "output_type": "execute_result"
    }
   ],
   "source": [
    "test_df[['last', 'email']]"
   ]
  },
  {
   "cell_type": "code",
   "execution_count": 23,
   "metadata": {},
   "outputs": [
    {
     "data": {
      "text/plain": [
       "pandas.core.frame.DataFrame"
      ]
     },
     "execution_count": 23,
     "metadata": {},
     "output_type": "execute_result"
    }
   ],
   "source": [
    "type(test_df[['last', 'email']])"
   ]
  },
  {
   "cell_type": "markdown",
   "metadata": {},
   "source": [
    "Notice the above code is type DataFrame."
   ]
  },
  {
   "cell_type": "code",
   "execution_count": 24,
   "metadata": {},
   "outputs": [
    {
     "data": {
      "text/plain": [
       "Index(['Unnamed: 0', 'authors', 'title', 'publish_date', 'description', 'text',\n",
       "       'url'],\n",
       "      dtype='object')"
      ]
     },
     "execution_count": 24,
     "metadata": {},
     "output_type": "execute_result"
    }
   ],
   "source": [
    "df.columns"
   ]
  },
  {
   "cell_type": "code",
   "execution_count": 26,
   "metadata": {},
   "outputs": [
    {
     "data": {
      "text/plain": [
       "email    JaneFonda@mail.com\n",
       "first                  Jane\n",
       "last                  Fonda\n",
       "Name: 1, dtype: object"
      ]
     },
     "execution_count": 26,
     "metadata": {},
     "output_type": "execute_result"
    }
   ],
   "source": [
    "test_df.iloc[1]"
   ]
  },
  {
   "cell_type": "code",
   "execution_count": 27,
   "metadata": {},
   "outputs": [
    {
     "data": {
      "text/plain": [
       "pandas.core.series.Series"
      ]
     },
     "execution_count": 27,
     "metadata": {},
     "output_type": "execute_result"
    }
   ],
   "source": [
    "type(test_df.iloc[1])"
   ]
  },
  {
   "cell_type": "code",
   "execution_count": 28,
   "metadata": {},
   "outputs": [
    {
     "data": {
      "text/html": [
       "<div>\n",
       "<style scoped>\n",
       "    .dataframe tbody tr th:only-of-type {\n",
       "        vertical-align: middle;\n",
       "    }\n",
       "\n",
       "    .dataframe tbody tr th {\n",
       "        vertical-align: top;\n",
       "    }\n",
       "\n",
       "    .dataframe thead th {\n",
       "        text-align: right;\n",
       "    }\n",
       "</style>\n",
       "<table border=\"1\" class=\"dataframe\">\n",
       "  <thead>\n",
       "    <tr style=\"text-align: right;\">\n",
       "      <th></th>\n",
       "      <th>email</th>\n",
       "      <th>first</th>\n",
       "      <th>last</th>\n",
       "    </tr>\n",
       "  </thead>\n",
       "  <tbody>\n",
       "    <tr>\n",
       "      <th>0</th>\n",
       "      <td>DaveZimmer@mail.com</td>\n",
       "      <td>Dave</td>\n",
       "      <td>Zimmer</td>\n",
       "    </tr>\n",
       "    <tr>\n",
       "      <th>1</th>\n",
       "      <td>JaneFonda@mail.com</td>\n",
       "      <td>Jane</td>\n",
       "      <td>Fonda</td>\n",
       "    </tr>\n",
       "  </tbody>\n",
       "</table>\n",
       "</div>"
      ],
      "text/plain": [
       "                 email first    last\n",
       "0  DaveZimmer@mail.com  Dave  Zimmer\n",
       "1   JaneFonda@mail.com  Jane   Fonda"
      ]
     },
     "execution_count": 28,
     "metadata": {},
     "output_type": "execute_result"
    }
   ],
   "source": [
    "test_df.iloc[[0, 1]]"
   ]
  },
  {
   "cell_type": "code",
   "execution_count": 29,
   "metadata": {},
   "outputs": [
    {
     "data": {
      "text/plain": [
       "pandas.core.frame.DataFrame"
      ]
     },
     "execution_count": 29,
     "metadata": {},
     "output_type": "execute_result"
    }
   ],
   "source": [
    "type(test_df.iloc[[0,1]])"
   ]
  },
  {
   "cell_type": "code",
   "execution_count": 31,
   "metadata": {},
   "outputs": [
    {
     "data": {
      "text/plain": [
       "0    DaveZimmer@mail.com\n",
       "1     JaneFonda@mail.com\n",
       "Name: email, dtype: object"
      ]
     },
     "execution_count": 31,
     "metadata": {},
     "output_type": "execute_result"
    }
   ],
   "source": [
    "test_df.iloc[[0,1], 0]"
   ]
  },
  {
   "cell_type": "code",
   "execution_count": 35,
   "metadata": {},
   "outputs": [
    {
     "data": {
      "text/plain": [
       "pandas.core.series.Series"
      ]
     },
     "execution_count": 35,
     "metadata": {},
     "output_type": "execute_result"
    }
   ],
   "source": [
    "type(test_df.iloc[[0,1], 0])"
   ]
  },
  {
   "cell_type": "code",
   "execution_count": 36,
   "metadata": {},
   "outputs": [
    {
     "data": {
      "text/html": [
       "<div>\n",
       "<style scoped>\n",
       "    .dataframe tbody tr th:only-of-type {\n",
       "        vertical-align: middle;\n",
       "    }\n",
       "\n",
       "    .dataframe tbody tr th {\n",
       "        vertical-align: top;\n",
       "    }\n",
       "\n",
       "    .dataframe thead th {\n",
       "        text-align: right;\n",
       "    }\n",
       "</style>\n",
       "<table border=\"1\" class=\"dataframe\">\n",
       "  <thead>\n",
       "    <tr style=\"text-align: right;\">\n",
       "      <th></th>\n",
       "      <th>email</th>\n",
       "      <th>first</th>\n",
       "      <th>last</th>\n",
       "    </tr>\n",
       "  </thead>\n",
       "  <tbody>\n",
       "    <tr>\n",
       "      <th>0</th>\n",
       "      <td>DaveZimmer@mail.com</td>\n",
       "      <td>Dave</td>\n",
       "      <td>Zimmer</td>\n",
       "    </tr>\n",
       "    <tr>\n",
       "      <th>1</th>\n",
       "      <td>JaneFonda@mail.com</td>\n",
       "      <td>Jane</td>\n",
       "      <td>Fonda</td>\n",
       "    </tr>\n",
       "    <tr>\n",
       "      <th>2</th>\n",
       "      <td>JohnSmith@mail.com</td>\n",
       "      <td>John</td>\n",
       "      <td>Smith</td>\n",
       "    </tr>\n",
       "  </tbody>\n",
       "</table>\n",
       "</div>"
      ],
      "text/plain": [
       "                 email first    last\n",
       "0  DaveZimmer@mail.com  Dave  Zimmer\n",
       "1   JaneFonda@mail.com  Jane   Fonda\n",
       "2   JohnSmith@mail.com  John   Smith"
      ]
     },
     "execution_count": 36,
     "metadata": {},
     "output_type": "execute_result"
    }
   ],
   "source": [
    "test_df"
   ]
  },
  {
   "cell_type": "code",
   "execution_count": 37,
   "metadata": {},
   "outputs": [
    {
     "data": {
      "text/plain": [
       "email    DaveZimmer@mail.com\n",
       "first                   Dave\n",
       "last                  Zimmer\n",
       "Name: 0, dtype: object"
      ]
     },
     "execution_count": 37,
     "metadata": {},
     "output_type": "execute_result"
    }
   ],
   "source": [
    "test_df.loc[0]"
   ]
  },
  {
   "cell_type": "code",
   "execution_count": 38,
   "metadata": {},
   "outputs": [
    {
     "data": {
      "text/plain": [
       "pandas.core.series.Series"
      ]
     },
     "execution_count": 38,
     "metadata": {},
     "output_type": "execute_result"
    }
   ],
   "source": [
    "type(test_df.loc[0])"
   ]
  },
  {
   "cell_type": "code",
   "execution_count": 40,
   "metadata": {},
   "outputs": [
    {
     "data": {
      "text/html": [
       "<div>\n",
       "<style scoped>\n",
       "    .dataframe tbody tr th:only-of-type {\n",
       "        vertical-align: middle;\n",
       "    }\n",
       "\n",
       "    .dataframe tbody tr th {\n",
       "        vertical-align: top;\n",
       "    }\n",
       "\n",
       "    .dataframe thead th {\n",
       "        text-align: right;\n",
       "    }\n",
       "</style>\n",
       "<table border=\"1\" class=\"dataframe\">\n",
       "  <thead>\n",
       "    <tr style=\"text-align: right;\">\n",
       "      <th></th>\n",
       "      <th>email</th>\n",
       "      <th>first</th>\n",
       "      <th>last</th>\n",
       "    </tr>\n",
       "  </thead>\n",
       "  <tbody>\n",
       "    <tr>\n",
       "      <th>0</th>\n",
       "      <td>DaveZimmer@mail.com</td>\n",
       "      <td>Dave</td>\n",
       "      <td>Zimmer</td>\n",
       "    </tr>\n",
       "    <tr>\n",
       "      <th>1</th>\n",
       "      <td>JaneFonda@mail.com</td>\n",
       "      <td>Jane</td>\n",
       "      <td>Fonda</td>\n",
       "    </tr>\n",
       "  </tbody>\n",
       "</table>\n",
       "</div>"
      ],
      "text/plain": [
       "                 email first    last\n",
       "0  DaveZimmer@mail.com  Dave  Zimmer\n",
       "1   JaneFonda@mail.com  Jane   Fonda"
      ]
     },
     "execution_count": 40,
     "metadata": {},
     "output_type": "execute_result"
    }
   ],
   "source": [
    "test_df.loc[[0,1]]"
   ]
  },
  {
   "cell_type": "code",
   "execution_count": 41,
   "metadata": {},
   "outputs": [
    {
     "data": {
      "text/plain": [
       "0    DaveZimmer@mail.com\n",
       "1     JaneFonda@mail.com\n",
       "Name: email, dtype: object"
      ]
     },
     "execution_count": 41,
     "metadata": {},
     "output_type": "execute_result"
    }
   ],
   "source": [
    "test_df.loc[[0,1], 'email']"
   ]
  },
  {
   "cell_type": "code",
   "execution_count": 42,
   "metadata": {},
   "outputs": [
    {
     "data": {
      "text/html": [
       "<div>\n",
       "<style scoped>\n",
       "    .dataframe tbody tr th:only-of-type {\n",
       "        vertical-align: middle;\n",
       "    }\n",
       "\n",
       "    .dataframe tbody tr th {\n",
       "        vertical-align: top;\n",
       "    }\n",
       "\n",
       "    .dataframe thead th {\n",
       "        text-align: right;\n",
       "    }\n",
       "</style>\n",
       "<table border=\"1\" class=\"dataframe\">\n",
       "  <thead>\n",
       "    <tr style=\"text-align: right;\">\n",
       "      <th></th>\n",
       "      <th>email</th>\n",
       "      <th>last</th>\n",
       "    </tr>\n",
       "  </thead>\n",
       "  <tbody>\n",
       "    <tr>\n",
       "      <th>0</th>\n",
       "      <td>DaveZimmer@mail.com</td>\n",
       "      <td>Zimmer</td>\n",
       "    </tr>\n",
       "    <tr>\n",
       "      <th>1</th>\n",
       "      <td>JaneFonda@mail.com</td>\n",
       "      <td>Fonda</td>\n",
       "    </tr>\n",
       "  </tbody>\n",
       "</table>\n",
       "</div>"
      ],
      "text/plain": [
       "                 email    last\n",
       "0  DaveZimmer@mail.com  Zimmer\n",
       "1   JaneFonda@mail.com   Fonda"
      ]
     },
     "execution_count": 42,
     "metadata": {},
     "output_type": "execute_result"
    }
   ],
   "source": [
    "test_df.loc[[0,1], ['email', 'last']]"
   ]
  },
  {
   "cell_type": "code",
   "execution_count": 44,
   "metadata": {},
   "outputs": [
    {
     "data": {
      "text/plain": [
       "(3566, 7)"
      ]
     },
     "execution_count": 44,
     "metadata": {},
     "output_type": "execute_result"
    }
   ],
   "source": [
    "df.shape #Returns (# of rows, # of columns)"
   ]
  },
  {
   "cell_type": "code",
   "execution_count": 45,
   "metadata": {},
   "outputs": [
    {
     "data": {
      "text/plain": [
       "Index(['Unnamed: 0', 'authors', 'title', 'publish_date', 'description', 'text',\n",
       "       'url'],\n",
       "      dtype='object')"
      ]
     },
     "execution_count": 45,
     "metadata": {},
     "output_type": "execute_result"
    }
   ],
   "source": [
    "df.columns"
   ]
  },
  {
   "cell_type": "code",
   "execution_count": 46,
   "metadata": {},
   "outputs": [
    {
     "data": {
      "text/plain": [
       "0                                            ['Cbc News']\n",
       "1                                            ['Cbc News']\n",
       "2                                ['The Associated Press']\n",
       "3                                            ['Cbc News']\n",
       "4                                            ['Cbc News']\n",
       "5       ['Mark Gollom Is A Toronto-Based Reporter With...\n",
       "6                                            ['Cbc News']\n",
       "7                                ['The Associated Press']\n",
       "8                                     ['Thomson Reuters']\n",
       "9       ['Leah Hendry Is A Tv', 'Radio', 'Online Journ...\n",
       "10      ['Reporter', 'Web Writer For Cbc Saskatoon', '...\n",
       "11      ['Jorge Barrera Is A Caracas-Born', 'Award-Win...\n",
       "12      ['Colleen M. Flood Is Director Of The Centre F...\n",
       "13      ['Producer', 'Cbc News Business', 'James Dunne...\n",
       "14      ['Dan Mcgarvey Is A Mobile Journalist Focused ...\n",
       "15      ['Cbc News New York', \"Steven D'Souza Is A Gem...\n",
       "16                                                     []\n",
       "17                                                     []\n",
       "18      ['Investigative Reporter', 'Cbc Manitoba I-Tea...\n",
       "19      ['Hadeel Ibrahim Is A Cbc Reporter Based Out O...\n",
       "20                                           ['Cbc News']\n",
       "21                               ['The Associated Press']\n",
       "22      ['Science', 'Technology Writer', 'Emily Chung ...\n",
       "23      ['Investigative Journalist', \"Timothy Sawa Wor...\n",
       "24      ['Sam Samson Is A Multimedia Journalist Who Ha...\n",
       "25      ['Senior Writer', 'Pete Evans Is The Senior Bu...\n",
       "26                                    ['Thomson Reuters']\n",
       "27                                           ['Cbc News']\n",
       "28                                                     []\n",
       "29                                    ['Thomson Reuters']\n",
       "                              ...                        \n",
       "3536                                         ['Cbc News']\n",
       "3537    ['Trevor Tombe Is An Associate Professor Of Ec...\n",
       "3538    ['Senior Reporter', \"Olivia Stefanovich Is A S...\n",
       "3539                                         ['Cbc News']\n",
       "3540                               ['The Canadian Press']\n",
       "3541                             ['The Associated Press']\n",
       "3542                               ['The Canadian Press']\n",
       "3543                                         ['Cbc News']\n",
       "3544                                  ['Thomson Reuters']\n",
       "3545                                                   []\n",
       "3546    ['Alexander Panetta Is A Washington-Based Corr...\n",
       "3547                                         ['Cbc News']\n",
       "3548                                         ['Cbc News']\n",
       "3549                                         ['Cbc News']\n",
       "3550    ['Wyatt James Schierman Is A Freelance Writer ...\n",
       "3551                               ['The Canadian Press']\n",
       "3552                             ['The Associated Press']\n",
       "3553    ['National Affairs Editor', \"Chris Hall Is The...\n",
       "3554                               ['The Canadian Press']\n",
       "3555                             ['The Associated Press']\n",
       "3556                             ['The Associated Press']\n",
       "3557                               ['The Canadian Press']\n",
       "3558                                         ['Cbc News']\n",
       "3559                                         ['Cbc News']\n",
       "3560                                         ['Cbc News']\n",
       "3561                             ['The Associated Press']\n",
       "3562                               ['The Canadian Press']\n",
       "3563                                         ['Cbc News']\n",
       "3564                                         ['Cbc News']\n",
       "3565                               ['The Canadian Press']\n",
       "Name: authors, Length: 3566, dtype: object"
      ]
     },
     "execution_count": 46,
     "metadata": {},
     "output_type": "execute_result"
    }
   ],
   "source": [
    "df['authors']"
   ]
  },
  {
   "cell_type": "code",
   "execution_count": 47,
   "metadata": {},
   "outputs": [
    {
     "data": {
      "text/plain": [
       "[]                                                                                                                                                                                                                                                                                                                                                                                                                                                                                                  1177\n",
       "['Cbc News']                                                                                                                                                                                                                                                                                                                                                                                                                                                                                        1168\n",
       "['The Associated Press']                                                                                                                                                                                                                                                                                                                                                                                                                                                                             178\n",
       "['Thomson Reuters']                                                                                                                                                                                                                                                                                                                                                                                                                                                                                   86\n",
       "['The Canadian Press']                                                                                                                                                                                                                                                                                                                                                                                                                                                                                82\n",
       "['Reporter Editor', 'Bobhristova Is A Reporter Editor With Cbc Hamilton. Email', 'Bobby.Hristova Cbc.Ca', 'Follow', 'Bobbyhristova On Twitter']                                                                                                                                                                                                                                                                                                                                                       30\n",
       "['Business Reporter', 'Sophia Harris Covers Business', 'Consumer News.', 'Contact', 'Sophia.Harris Cbc.Ca', 'More This Author']                                                                                                                                                                                                                                                                                                                                                                       15\n",
       "['Reporter Editor', 'Jennifer La Grassa Is A Reporter Editor For Cbc Hamilton. Email', 'Jennifer.Lagrassa Cbc.Ca', 'Follow', 'Jennlagrassa On Twitter']                                                                                                                                                                                                                                                                                                                                               14\n",
       "['Mark Gollom Is A Toronto-Based Reporter With Cbc News. He Covers Canadian', 'U.S. Politics', 'Current Affairs.']                                                                                                                                                                                                                                                                                                                                                                                    14\n",
       "['Web Writer', 'Sam Juric Is A Journalist With Cbc P.E.I.', 'Can Be Reached At Samantha.Juric Cbc.Ca.']                                                                                                                                                                                                                                                                                                                                                                                               14\n",
       "['Reporter Editor', \"Elizabeth Fraser Is A Reporter Editor With Cbc New Brunswick Based In Fredericton. She'S Originally Manitoba. Story Tip\", 'Elizabeth.Fraser Cbc.Ca']                                                                                                                                                                                                                                                                                                                             14\n",
       "['Senior Writer', \"Adam Miller Is Senior Digital Writer With Cbc News. He'S Covered Health\", 'Politics', 'Breaking News Extensively In Canada', 'In Addition To Several Years Reporting On News', 'Current Affairs Throughout Asia.']                                                                                                                                                                                                                                                                 13\n",
       "['Defence', 'Murray Brewster Is Senior Defence Writer For Cbc News', 'Based In Ottawa. He Has Covered The Canadian Military', 'Foreign Policy Parliament Hill For Over A Decade. Among Other Assignments', 'He Spent A Total Of Months On The Ground Covering The Afghan War For The Canadian Press. Prior To That', 'He Covered Defence Issues', 'Politics For Cp In Nova Scotia For Years', 'Was Bureau Chief For Standard Broadcast News In Ottawa.', 'Follow', 'Murray_Brewster On Twitter']      13\n",
       "['Adam Hunter Is The Provincial Affairs Reporter At Cbc Saskatchewan', 'Based In Regina. He Has Been With Cbc For Years. He Hosts The Cbc Podcast On The Ledge. Follow Him On Twitter', 'Ahiddycbc. Contact Him', 'Adam.Hunter Cbc.Ca']                                                                                                                                                                                                                                                               12\n",
       "['Medical Science', 'Kelly Crowe Is A Science Correspondent For Cbc News. She Joined Cbc In', 'Has Spent Years Reporting On A Wide Range Of National News', 'Current Affairs', 'With A Particular Interest In Science']                                                                                                                                                                                                                                                                               12\n",
       "['Alexander Panetta Is A Washington-Based Correspondent For Cbc News Who Has Covered American Politics', 'Canada-U.S. Issues Since He Previously Worked In Ottawa', 'Quebec City', 'Internationally', 'Reporting On Politics', 'Conflict', 'Disaster', 'The Montreal Expos.']                                                                                                                                                                                                                         11\n",
       "['Video Journalist', \"Colin Butler Is A Veteran Cbc Reporter Who'S Worked In Moncton\", 'Saint John', 'Fredericton', 'Toronto', 'Kitchener-Waterloo', 'Hamilton', 'London', 'Ont. Email', 'Colin.Butler Cbc.Ca']                                                                                                                                                                                                                                                                                       10\n",
       "['Cbc Staff', 'Alvin Yu Splits His Time Along The Corridor As A Reporter For Cbc London', 'Associate Producer For Cbc Toronto', 'The National. Yu Set His Sights On Journalism Early - As A Kid He Would Anchor The News In The Shower', 'Hoping One Day To Make It To The Big Screen.']                                                                                                                                                                                                              10\n",
       "['Senior Writer', 'Pete Evans Is The Senior Business Writer For Cbcnews.Ca. Prior To Coming To The Cbc', 'His Work Has Appeared In The Globe', 'Mail', 'The Financial Post', 'The Toronto Star', 'Canadian Business Magazine', 'Believe It Or Not', 'Circuits Assembly Magazine.', 'Twitter']                                                                                                                                                                                                         10\n",
       "['Ian Froese Is A Reporter With Cbc Manitoba. He Has Previously Worked For Newspapers In Brandon', 'Steinbach. Story Idea', 'Email', 'Ian.Froese Cbc.Ca.', 'Twitter']                                                                                                                                                                                                                                                                                                                                 10\n",
       "['Taryn Grant Is A Halifax-Based Reporter For Cbc Nova Scotia. Get In Touch With Her Email At Taryn.Grant Cbc.Ca']                                                                                                                                                                                                                                                                                                                                                                                    10\n",
       "['Parliamentary Bureau', 'John Paul', 'J.P.', \"Tasker Is A Reporter In The Cbc'S Parliamentary Bureau In Ottawa. He Can Be Reached At John.Tasker Cbc.Ca.\", 'Follow J.P. On Twitter']                                                                                                                                                                                                                                                                                                                 10\n",
       "['Bryce Hoye Is An Award-Winning Journalist', 'Science Writer With A Background In Wildlife Biology', 'Interests In Courts', 'Social Justice', 'Health', 'More. He Is The Prairie Rep For Outcbc. Story Idea', 'Email Bryce.Hoye Cbc.Ca.', 'Email', 'Bryce.Hoye Cbc.Ca', 'More Bryce Hoye']                                                                                                                                                                                                            9\n",
       "['Dan Zakreski Is A Reporter For Cbc Saskatoon.']                                                                                                                                                                                                                                                                                                                                                                                                                                                      9\n",
       "['Nicola Macleod Is A Reporter With Cbc In P.E.I.']                                                                                                                                                                                                                                                                                                                                                                                                                                                    9\n",
       "['Business Columnist', 'Don Pittis Was A Forest Firefighter', \"A Ranger In Canada'S High Arctic Islands. After Moving Into Journalism\", 'He Was Principal Business Reporter For Radio Television Hong Kong Before The Handover To China. He Has Produced', 'Reported For The Cbc In Saskatchewan', 'Toronto', \"The Bbc In London. He Is Currently Senior Producer At Cbc'S Business Unit.\", 'More Don Pittis']                                                                                         9\n",
       "['Hadeel Ibrahim Is A Cbc Reporter Based Out Of Saint John. She Can Be Reached At Hadeel.Ibrahim Cbc.Ca']                                                                                                                                                                                                                                                                                                                                                                                              9\n",
       "['Reporter Editor', 'Tom Ayers Has Been A Reporter', 'Editor For More Than Years. He Has Spent The Last Years Covering Cape Breton', 'Nova Scotia Stories. You Can Reach Him At Tom.Ayers Cbc.Ca.']                                                                                                                                                                                                                                                                                                    9\n",
       "['Reporter', 'Web Writer For Cbc Saskatoon', 'Story Tips', 'Ideas Welcomed At Guy.Quenneville Cbc.Ca', 'Follow Guy On Twitter']                                                                                                                                                                                                                                                                                                                                                                        8\n",
       "['Ariana Kelland Is A Reporter With The Cbc Newfoundland', \"Labrador Bureau In St. John'S.\", 'More This Author', 'Follow Ariana Kelland On Twitter']                                                                                                                                                                                                                                                                                                                                                   8\n",
       "                                                                                                                                                                                                                                                                                                                                                                                                                                                                                                    ... \n",
       "['A.T. Kingsmith Is An Anxiety Researcher', 'Mixed Media Documentarian Who Teaches In The Department Of Politics', 'Public Administration At Ryerson University.']                                                                                                                                                                                                                                                                                                                                     1\n",
       "['Hillary Johnstone Is A Reporter For Cbc Ottawa.', 'You Can Reach Her Email Hillary.Johnstone Cbc.Ca.']                                                                                                                                                                                                                                                                                                                                                                                               1\n",
       "['Briar Stewart Is A Senior Reporter With Cbc News.', 'For More Than A Decade', 'She Has Been Covering Stories For Television', 'Radio', 'Online.', 'She Is Based In Vancouver', 'Can Be Reached At Briar.Stewart Cbc.Ca', 'Or On Twitter']                                                                                                                                                                                                                                                            1\n",
       "['Cbc News', \"Mark Quinn Is A Videojournalist With Cbc'S Bureau In St. John'S.\"]                                                                                                                                                                                                                                                                                                                                                                                                                       1\n",
       "['Brittany Spencer Is A Multi-Platform Journalist With Cbc P.E.I. Email', 'Brittany.Spencer Cbc.Ca']                                                                                                                                                                                                                                                                                                                                                                                                   1\n",
       "['Senior Technology Reporter', \"While In Cbc'S London\", 'U.K. Bureau', 'Thomas Reported On Everything The Royal Family', 'European Politics To Terrorism. He Filed Stories Quebec For Several Years', 'Reported For Radio-Canada In His Native New Brunswick. Thomas Is Now Based In Toronto', 'Focuses On Technology-Related News. He Can Be Reached Email At Thomas.Daigle Cbc.Ca.', 'Follow Thomas On Twitter']                                                                                     1\n",
       "['Senior Reporter', 'Consumer Affairs', \"Aaron Saltzman Is Cbc'S Senior Business Reporter. Tips Story Ideas Always Welcome. Aaron.Saltzman Cbc.Ca Twitter.Com Cbcsaltzman\"]                                                                                                                                                                                                                                                                                                                            1\n",
       "['Joel Joined Cbc Calgary In Reach Him Email At Joel.Dryden Cbc.Ca', 'Follow Joel On Twitter']                                                                                                                                                                                                                                                                                                                                                                                                         1\n",
       "['Bridget Yard Is A Video Journalist Based In Saskatoon. She Has Also Worked For Cbc In Fredericton', 'Bathurst', 'Follow Bridget On Twitter']                                                                                                                                                                                                                                                                                                                                                         1\n",
       "[\"Marie Isabelle Rochon Is A Videojournalist For Radio-Canada Based In St. John'S.\"]                                                                                                                                                                                                                                                                                                                                                                                                                   1\n",
       "['Senior Writer', 'Peter Zimonjic Has Worked As A Reporter', 'Columnist In London', 'England', 'For The Daily Mail', 'Sunday Times', 'Daily Telegraph', 'In Canada For Sun Media', 'The Ottawa Citizen. He Is The Author Of Into The Darkness', 'An Account Of']                                                                                                                                                                                                                                       1\n",
       "['Franca G. Mignacca Is A Journalist At Cbc Montreal.']                                                                                                                                                                                                                                                                                                                                                                                                                                                1\n",
       "['Dr. Vivek Goel Was The Founding Head Of Public Health Ontario', 'Set Up In Response To The Sars Crisis. He Is Currently A Professor At The University Of Toronto S Dalla Lana School Of Public Health', 'Vice-President Of Research', 'Innovation', 'Strategic Initiatives At U Of T.']                                                                                                                                                                                                              1\n",
       "['Cbc News', \"Rob Antle Is Producer For Cbc'S Investigative Unit In Newfoundland\", 'Follow Rob Antle On Twitter']                                                                                                                                                                                                                                                                                                                                                                                      1\n",
       "['Reporter', 'Cbc Toronto', \"Nicole Brockbank Is A Reporter For Cbc Toronto'S Enterprise Unit. Fuelled Coffee\", 'She Digs Up', 'Researches', 'Writes Original Investigative', 'Feature Stories. Nicole.Brockbank Cbc.Ca']                                                                                                                                                                                                                                                                              1\n",
       "['Investigative Journalist', \"Timothy Sawa Works For Cbc'S Investigative Unit\", 'The Fifth Estate', 'Has Been An Investigative Journalist At Cbc News For More Than A Decade. He Has Produced Investigations Looking At Police Corruption', 'Sexual Abuse In Public Institutions', 'Offshore Tax Evasion.', 'Cbc News Investigates']                                                                                                                                                                   1\n",
       "['Joanne Seiff Is The Author Of Three Books.', 'She Works In Winnipeg As A Freelance Writer.']                                                                                                                                                                                                                                                                                                                                                                                                         1\n",
       "['Dr. Taylor Lougheed Is An Ontario Physician Practicing In Family', 'Emergency', 'Sport', 'Cannabinoid Medicine.']                                                                                                                                                                                                                                                                                                                                                                                    1\n",
       "[\"Nic Meloney Is A Wolastoqew Video Journalist Raised On Cape Breton Island In Nova Scotia Mi'Kma'Ki. Email Him At Nic.Meloney Cbc.Ca Or Follow Him On Twitter\"]                                                                                                                                                                                                                                                                                                                                       1\n",
       "['Senior Reporter', 'Kayla Hounsell Is A Network Reporter With Cbc News Based In Halifax. She Covers The Maritime Provinces For Cbc National News On Television', 'Radio', 'Online. She Welcomes Story Ideas At Kayla.Hounsell Cbc.Ca.', 'Follow Kayla Hounsell On Twitter']                                                                                                                                                                                                                           1\n",
       "['Haley Ryan Is A Reporter Based In Halifax. Got A Story Idea', 'Send An Email To Haley.Ryan Cbc.Ca', 'Or Reach Out On Twitter']                                                                                                                                                                                                                                                                                                                                                                       1\n",
       "['Host', 'London Morning', 'Rebecca Zandbergen Is Ottawa', 'Has Worked For Cbc Radio Across The Country For More Than Years', 'Including Stops In Iqaluit', 'Halifax', 'Windsor']                                                                                                                                                                                                                                                                                                                      1\n",
       "['Tim Ford Is A Mixed-Race Freelance Writer Based In Victoria. He Has Written Articles For Avenue Magazine', 'Monday Magazine', 'Livewire Calgary', 'Has Authored Science Fiction', 'Fantasy Stories For Neo-Opsis Magazine', 'Crossed Genres Magazine', 'Several Anthology Collections.']                                                                                                                                                                                                             1\n",
       "[\"Kyle Bakx Is A Calgary-Based Journalist With Cbc'S Network Business Unit. He'S Covered Stories Across The Country\", 'Follow', 'Kylebakx On Twitter']                                                                                                                                                                                                                                                                                                                                                 1\n",
       "['Elham Shabahat']                                                                                                                                                                                                                                                                                                                                                                                                                                                                                     1\n",
       "['Reporter The Canadian Press', 'Stephanie Taylor Is A Canadian Press Reporter Based In Saskatchewan.']                                                                                                                                                                                                                                                                                                                                                                                                1\n",
       "['Senior Reporter', 'Cbc Toronto', 'Small Town Ontario To Washington D.C.', 'Philip Has Covered Stories Big', 'Small. An Award-Winning Reporter With More Than Two Decades Of Experience In Ontario', 'Alberta', \"He'S Now A Senior Reporter For Cbc Toronto On Television\", 'Radio', 'Online. He Is Also A National Reporter For The World This Weekend On Radio One.', 'Follow Him On Twitter']                                                                                                      1\n",
       "['Cbc News', \"David Cochrane Is A Senior Reporter In Cbc'S Parliamentary Bureau. He Previously Wrote For Cbc Newfoundland\", 'Follow David Cochrane On Twitter', 'Read More Articles David Cochrane']                                                                                                                                                                                                                                                                                                   1\n",
       "['Bailey Martens Is A Student At The University Of British Columbia', 'A Freelance Journalist.']                                                                                                                                                                                                                                                                                                                                                                                                       1\n",
       "['Digital Broadcast Reporter', 'Zulekha Nathoo Is An Entertainment Reporter Based In Los Angeles. The Oscars To The Grammys', \"She'S Interviewed Some Of The Biggest Names In Showbiz Including Celine Dion\", 'Denzel Washington', 'Angelina Jolie. She Also Works On-Air', 'Having Spent More Than A Decade At Cbc News Stations Across Canada. Follow Her On Twitter Instagram']                                                                                                                     1\n",
       "Name: authors, Length: 261, dtype: int64"
      ]
     },
     "execution_count": 47,
     "metadata": {},
     "output_type": "execute_result"
    }
   ],
   "source": [
    "df['authors'].value_counts()"
   ]
  },
  {
   "cell_type": "code",
   "execution_count": 52,
   "metadata": {},
   "outputs": [
    {
     "data": {
      "text/plain": [
       "title      COVID-19 in Sask: Province announces first 3 c...\n",
       "authors    ['Reporter', 'Web Writer For Cbc Saskatoon', '...\n",
       "Name: 10, dtype: object"
      ]
     },
     "execution_count": 52,
     "metadata": {},
     "output_type": "execute_result"
    }
   ],
   "source": [
    "df.loc[10, ['title', 'authors']]"
   ]
  },
  {
   "cell_type": "code",
   "execution_count": 55,
   "metadata": {},
   "outputs": [
    {
     "data": {
      "text/html": [
       "<div>\n",
       "<style scoped>\n",
       "    .dataframe tbody tr th:only-of-type {\n",
       "        vertical-align: middle;\n",
       "    }\n",
       "\n",
       "    .dataframe tbody tr th {\n",
       "        vertical-align: top;\n",
       "    }\n",
       "\n",
       "    .dataframe thead th {\n",
       "        text-align: right;\n",
       "    }\n",
       "</style>\n",
       "<table border=\"1\" class=\"dataframe\">\n",
       "  <thead>\n",
       "    <tr style=\"text-align: right;\">\n",
       "      <th></th>\n",
       "      <th>title</th>\n",
       "      <th>authors</th>\n",
       "    </tr>\n",
       "  </thead>\n",
       "  <tbody>\n",
       "    <tr>\n",
       "      <th>0</th>\n",
       "      <td>Coronavirus a 'wake-up call' for Canada's pres...</td>\n",
       "      <td>['Cbc News']</td>\n",
       "    </tr>\n",
       "    <tr>\n",
       "      <th>1</th>\n",
       "      <td>Yukon gov't names 2 possible sources of corona...</td>\n",
       "      <td>['Cbc News']</td>\n",
       "    </tr>\n",
       "    <tr>\n",
       "      <th>2</th>\n",
       "      <td>U.S. Senate passes $2T coronavirus relief package</td>\n",
       "      <td>['The Associated Press']</td>\n",
       "    </tr>\n",
       "    <tr>\n",
       "      <th>3</th>\n",
       "      <td>Coronavirus: The latest in drug treatment and ...</td>\n",
       "      <td>['Cbc News']</td>\n",
       "    </tr>\n",
       "    <tr>\n",
       "      <th>4</th>\n",
       "      <td>The latest on the coronavirus outbreak for Mar...</td>\n",
       "      <td>['Cbc News']</td>\n",
       "    </tr>\n",
       "    <tr>\n",
       "      <th>5</th>\n",
       "      <td>'Worse' pandemic on horizon unless world deals...</td>\n",
       "      <td>['Mark Gollom Is A Toronto-Based Reporter With...</td>\n",
       "    </tr>\n",
       "    <tr>\n",
       "      <th>6</th>\n",
       "      <td>What you need to know about COVID-19 in Ottawa...</td>\n",
       "      <td>['Cbc News']</td>\n",
       "    </tr>\n",
       "    <tr>\n",
       "      <th>7</th>\n",
       "      <td>Michigan hospitals jammed as coronavirus cases...</td>\n",
       "      <td>['The Associated Press']</td>\n",
       "    </tr>\n",
       "    <tr>\n",
       "      <th>8</th>\n",
       "      <td>U.S. coronavirus cases now highest in the world</td>\n",
       "      <td>['Thomson Reuters']</td>\n",
       "    </tr>\n",
       "    <tr>\n",
       "      <th>9</th>\n",
       "      <td>'Avoid the emergency' pleads Jewish General, a...</td>\n",
       "      <td>['Leah Hendry Is A Tv', 'Radio', 'Online Journ...</td>\n",
       "    </tr>\n",
       "    <tr>\n",
       "      <th>10</th>\n",
       "      <td>COVID-19 in Sask: Province announces first 3 c...</td>\n",
       "      <td>['Reporter', 'Web Writer For Cbc Saskatoon', '...</td>\n",
       "    </tr>\n",
       "  </tbody>\n",
       "</table>\n",
       "</div>"
      ],
      "text/plain": [
       "                                                title  \\\n",
       "0   Coronavirus a 'wake-up call' for Canada's pres...   \n",
       "1   Yukon gov't names 2 possible sources of corona...   \n",
       "2   U.S. Senate passes $2T coronavirus relief package   \n",
       "3   Coronavirus: The latest in drug treatment and ...   \n",
       "4   The latest on the coronavirus outbreak for Mar...   \n",
       "5   'Worse' pandemic on horizon unless world deals...   \n",
       "6   What you need to know about COVID-19 in Ottawa...   \n",
       "7   Michigan hospitals jammed as coronavirus cases...   \n",
       "8     U.S. coronavirus cases now highest in the world   \n",
       "9   'Avoid the emergency' pleads Jewish General, a...   \n",
       "10  COVID-19 in Sask: Province announces first 3 c...   \n",
       "\n",
       "                                              authors  \n",
       "0                                        ['Cbc News']  \n",
       "1                                        ['Cbc News']  \n",
       "2                            ['The Associated Press']  \n",
       "3                                        ['Cbc News']  \n",
       "4                                        ['Cbc News']  \n",
       "5   ['Mark Gollom Is A Toronto-Based Reporter With...  \n",
       "6                                        ['Cbc News']  \n",
       "7                            ['The Associated Press']  \n",
       "8                                 ['Thomson Reuters']  \n",
       "9   ['Leah Hendry Is A Tv', 'Radio', 'Online Journ...  \n",
       "10  ['Reporter', 'Web Writer For Cbc Saskatoon', '...  "
      ]
     },
     "execution_count": 55,
     "metadata": {},
     "output_type": "execute_result"
    }
   ],
   "source": [
    "df.loc[0:10, ['title', 'authors']]"
   ]
  },
  {
   "cell_type": "code",
   "execution_count": 56,
   "metadata": {},
   "outputs": [
    {
     "data": {
      "text/html": [
       "<div>\n",
       "<style scoped>\n",
       "    .dataframe tbody tr th:only-of-type {\n",
       "        vertical-align: middle;\n",
       "    }\n",
       "\n",
       "    .dataframe tbody tr th {\n",
       "        vertical-align: top;\n",
       "    }\n",
       "\n",
       "    .dataframe thead th {\n",
       "        text-align: right;\n",
       "    }\n",
       "</style>\n",
       "<table border=\"1\" class=\"dataframe\">\n",
       "  <thead>\n",
       "    <tr style=\"text-align: right;\">\n",
       "      <th></th>\n",
       "      <th>authors</th>\n",
       "      <th>title</th>\n",
       "      <th>publish_date</th>\n",
       "      <th>description</th>\n",
       "    </tr>\n",
       "  </thead>\n",
       "  <tbody>\n",
       "    <tr>\n",
       "      <th>0</th>\n",
       "      <td>['Cbc News']</td>\n",
       "      <td>Coronavirus a 'wake-up call' for Canada's pres...</td>\n",
       "      <td>2020-03-27 08:00:00</td>\n",
       "      <td>Canadian pharmacies are limiting how much medi...</td>\n",
       "    </tr>\n",
       "    <tr>\n",
       "      <th>1</th>\n",
       "      <td>['Cbc News']</td>\n",
       "      <td>Yukon gov't names 2 possible sources of corona...</td>\n",
       "      <td>2020-03-27 01:45:00</td>\n",
       "      <td>The Yukon government has identified two places...</td>\n",
       "    </tr>\n",
       "    <tr>\n",
       "      <th>2</th>\n",
       "      <td>['The Associated Press']</td>\n",
       "      <td>U.S. Senate passes $2T coronavirus relief package</td>\n",
       "      <td>2020-03-26 05:13:00</td>\n",
       "      <td>The Senate has passed an unparalleled $2.2 tri...</td>\n",
       "    </tr>\n",
       "    <tr>\n",
       "      <th>3</th>\n",
       "      <td>['Cbc News']</td>\n",
       "      <td>Coronavirus: The latest in drug treatment and ...</td>\n",
       "      <td>2020-03-27 00:36:00</td>\n",
       "      <td>Scientists around the world are racing to find...</td>\n",
       "    </tr>\n",
       "    <tr>\n",
       "      <th>4</th>\n",
       "      <td>['Cbc News']</td>\n",
       "      <td>The latest on the coronavirus outbreak for Mar...</td>\n",
       "      <td>2020-03-26 20:57:00</td>\n",
       "      <td>The latest on the coronavirus outbreak from CB...</td>\n",
       "    </tr>\n",
       "    <tr>\n",
       "      <th>5</th>\n",
       "      <td>['Mark Gollom Is A Toronto-Based Reporter With...</td>\n",
       "      <td>'Worse' pandemic on horizon unless world deals...</td>\n",
       "      <td>2020-03-27 08:00:00</td>\n",
       "      <td>The continued existence of wildlife markets, w...</td>\n",
       "    </tr>\n",
       "    <tr>\n",
       "      <th>6</th>\n",
       "      <td>['Cbc News']</td>\n",
       "      <td>What you need to know about COVID-19 in Ottawa...</td>\n",
       "      <td>2020-03-27 08:00:00</td>\n",
       "      <td>CBC Ottawa's latest roundup of key points duri...</td>\n",
       "    </tr>\n",
       "    <tr>\n",
       "      <th>7</th>\n",
       "      <td>['The Associated Press']</td>\n",
       "      <td>Michigan hospitals jammed as coronavirus cases...</td>\n",
       "      <td>2020-03-26 11:02:00</td>\n",
       "      <td>Michigan hospitals are bracing for a surge of ...</td>\n",
       "    </tr>\n",
       "    <tr>\n",
       "      <th>8</th>\n",
       "      <td>['Thomson Reuters']</td>\n",
       "      <td>U.S. coronavirus cases now highest in the world</td>\n",
       "      <td>2020-03-26 14:55:00</td>\n",
       "      <td>The number of confirmed COVID-19 cases in the ...</td>\n",
       "    </tr>\n",
       "    <tr>\n",
       "      <th>9</th>\n",
       "      <td>['Leah Hendry Is A Tv', 'Radio', 'Online Journ...</td>\n",
       "      <td>'Avoid the emergency' pleads Jewish General, a...</td>\n",
       "      <td>2020-03-27 08:00:00</td>\n",
       "      <td>Montreal's Jewish General Hospital, one of the...</td>\n",
       "    </tr>\n",
       "    <tr>\n",
       "      <th>10</th>\n",
       "      <td>['Reporter', 'Web Writer For Cbc Saskatoon', '...</td>\n",
       "      <td>COVID-19 in Sask: Province announces first 3 c...</td>\n",
       "      <td>2020-03-26 14:18:00</td>\n",
       "      <td>The Saskatchewan government's latest update al...</td>\n",
       "    </tr>\n",
       "  </tbody>\n",
       "</table>\n",
       "</div>"
      ],
      "text/plain": [
       "                                              authors  \\\n",
       "0                                        ['Cbc News']   \n",
       "1                                        ['Cbc News']   \n",
       "2                            ['The Associated Press']   \n",
       "3                                        ['Cbc News']   \n",
       "4                                        ['Cbc News']   \n",
       "5   ['Mark Gollom Is A Toronto-Based Reporter With...   \n",
       "6                                        ['Cbc News']   \n",
       "7                            ['The Associated Press']   \n",
       "8                                 ['Thomson Reuters']   \n",
       "9   ['Leah Hendry Is A Tv', 'Radio', 'Online Journ...   \n",
       "10  ['Reporter', 'Web Writer For Cbc Saskatoon', '...   \n",
       "\n",
       "                                                title         publish_date  \\\n",
       "0   Coronavirus a 'wake-up call' for Canada's pres...  2020-03-27 08:00:00   \n",
       "1   Yukon gov't names 2 possible sources of corona...  2020-03-27 01:45:00   \n",
       "2   U.S. Senate passes $2T coronavirus relief package  2020-03-26 05:13:00   \n",
       "3   Coronavirus: The latest in drug treatment and ...  2020-03-27 00:36:00   \n",
       "4   The latest on the coronavirus outbreak for Mar...  2020-03-26 20:57:00   \n",
       "5   'Worse' pandemic on horizon unless world deals...  2020-03-27 08:00:00   \n",
       "6   What you need to know about COVID-19 in Ottawa...  2020-03-27 08:00:00   \n",
       "7   Michigan hospitals jammed as coronavirus cases...  2020-03-26 11:02:00   \n",
       "8     U.S. coronavirus cases now highest in the world  2020-03-26 14:55:00   \n",
       "9   'Avoid the emergency' pleads Jewish General, a...  2020-03-27 08:00:00   \n",
       "10  COVID-19 in Sask: Province announces first 3 c...  2020-03-26 14:18:00   \n",
       "\n",
       "                                          description  \n",
       "0   Canadian pharmacies are limiting how much medi...  \n",
       "1   The Yukon government has identified two places...  \n",
       "2   The Senate has passed an unparalleled $2.2 tri...  \n",
       "3   Scientists around the world are racing to find...  \n",
       "4   The latest on the coronavirus outbreak from CB...  \n",
       "5   The continued existence of wildlife markets, w...  \n",
       "6   CBC Ottawa's latest roundup of key points duri...  \n",
       "7   Michigan hospitals are bracing for a surge of ...  \n",
       "8   The number of confirmed COVID-19 cases in the ...  \n",
       "9   Montreal's Jewish General Hospital, one of the...  \n",
       "10  The Saskatchewan government's latest update al...  "
      ]
     },
     "execution_count": 56,
     "metadata": {},
     "output_type": "execute_result"
    }
   ],
   "source": [
    "df.loc[0:10, 'authors' : 'description']"
   ]
  },
  {
   "cell_type": "code",
   "execution_count": null,
   "metadata": {},
   "outputs": [],
   "source": []
  }
 ],
 "metadata": {
  "kernelspec": {
   "display_name": "Python 3",
   "language": "python",
   "name": "python3"
  },
  "language_info": {
   "codemirror_mode": {
    "name": "ipython",
    "version": 3
   },
   "file_extension": ".py",
   "mimetype": "text/x-python",
   "name": "python",
   "nbconvert_exporter": "python",
   "pygments_lexer": "ipython3",
   "version": "3.5.5"
  }
 },
 "nbformat": 4,
 "nbformat_minor": 4
}
